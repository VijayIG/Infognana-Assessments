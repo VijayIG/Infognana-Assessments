{
 "cells": [
  {
   "cell_type": "code",
   "execution_count": 1,
   "id": "520d5455",
   "metadata": {},
   "outputs": [
    {
     "name": "stdout",
     "output_type": "stream",
     "text": [
      "102\n"
     ]
    }
   ],
   "source": [
    "#4th\n",
    "def range_1(x,y):\n",
    "    a = []\n",
    "    for i in range(x,y+1):\n",
    "        if i < 10:\n",
    "            a.append(i)\n",
    "        else:\n",
    "            sum_of_digits = sum(int(digit) for digit in str(i))\n",
    "            a.append(sum_of_digits)\n",
    "    sum_1 = sum(a)\n",
    "    print(sum_1)\n",
    "    \n",
    "range_1(1,20)"
   ]
  },
  {
   "cell_type": "code",
   "execution_count": 2,
   "id": "1d263657",
   "metadata": {},
   "outputs": [
    {
     "name": "stdout",
     "output_type": "stream",
     "text": [
      "def function---->  ['Sun', 'rises', 'in', 'the', 'east']\n",
      "lambda function---->  ['Sun', 'rises', 'in', 'the', 'east']\n"
     ]
    }
   ],
   "source": [
    "#1st\n",
    "df_input= \"Sun rises in the east\"\n",
    "lambda_df= lambda a: a.split(\" \")\n",
    "def string(a):\n",
    "    return a.split(\" \")\n",
    "print(\"def function----> \", string(df_input))\n",
    "print(\"lambda function----> \",lambda_df(df_input))"
   ]
  },
  {
   "cell_type": "code",
   "execution_count": 3,
   "id": "5f8b81dd",
   "metadata": {},
   "outputs": [
    {
     "name": "stdout",
     "output_type": "stream",
     "text": [
      "te24s3h2\n"
     ]
    }
   ],
   "source": [
    "#6th \n",
    "num=0\n",
    "def compress(word):\n",
    "  global num\n",
    "  len_str = len(word)\n",
    "  comp_str = \"\"\n",
    "  while (num != len_str):\n",
    "    count = 1\n",
    "    while ((num < (len_str-1)) and (word[num] == word[num+1])):\n",
    "      count = count + 1\n",
    "      num = num + 1\n",
    "    if (count == 1):\n",
    "      comp_str = comp_str + str(word[num])\n",
    "    else:\n",
    "      comp_str = comp_str + str(word[num]) + str(count)\n",
    "    num = num + 1\n",
    "  return comp_str\n",
    "      \n",
    "\n",
    "word = \"teeeeeeeeeeeeeeeeeeeeeeeessshh\"\n",
    "print (compress(word))"
   ]
  },
  {
   "cell_type": "code",
   "execution_count": 4,
   "id": "6399fa2c",
   "metadata": {},
   "outputs": [],
   "source": [
    "#2nd\n",
    "def Underscore(num):\n",
    "    if num > 0:\n",
    "        for i in range(num):\n",
    "            for j in range (num):\n",
    "                if i+j == num-1:\n",
    "                    print(\"_\"*j+\"#\"*(num-j))\n",
    "    else:\n",
    "        num = abs(num)"
   ]
  },
  {
   "cell_type": "code",
   "execution_count": 5,
   "id": "05ab4094",
   "metadata": {},
   "outputs": [
    {
     "name": "stdout",
     "output_type": "stream",
     "text": [
      "_____#\n",
      "____##\n",
      "___###\n",
      "__####\n",
      "_#####\n",
      "######\n"
     ]
    }
   ],
   "source": [
    "Underscore(6)"
   ]
  },
  {
   "cell_type": "code",
   "execution_count": 6,
   "id": "0908c168",
   "metadata": {},
   "outputs": [
    {
     "name": "stdout",
     "output_type": "stream",
     "text": [
      "74 days\n"
     ]
    }
   ],
   "source": [
    "#5th\n",
    "class days_between_dates:\n",
    "    def __init__(self, d, m, y):\n",
    "        self.d = d\n",
    "        self.m = m\n",
    "        self.y = y\n",
    "mod = [31, 28, 31, 30, 31, 30,\n",
    "             31, 31, 30, 31, 30, 31]\n",
    "def countLeapYears(d):\n",
    "    years = d.y\n",
    "    if (d.m <= 2):\n",
    "        years -= 1\n",
    "    return int(years / 4) - int(years / 100) + int(years / 400)\n",
    "def getDifference(dt1, dt2):\n",
    "    n1 = dt1.y * 365 + dt1.d\n",
    "    for i in range(0, dt1.m - 1):\n",
    "        n1 += mod[i]\n",
    "    n1 += countLeapYears(dt1) \n",
    "    n2 = dt2.y * 365 + dt2.d\n",
    "    for i in range(0, dt2.m - 1):\n",
    "        n2 += mod[i]\n",
    "    n2 += countLeapYears(dt2)\n",
    "    return (n2 - n1)\n",
    " \n",
    " \n",
    "days1= days_between_dates(13, 12, 2018)\n",
    "days2 = days_between_dates(25, 2, 2019)\n",
    " \n",
    "print(getDifference(days1, days2), \"days\")"
   ]
  },
  {
   "cell_type": "code",
   "execution_count": 9,
   "id": "06a28839",
   "metadata": {},
   "outputs": [
    {
     "name": "stdout",
     "output_type": "stream",
     "text": [
      "False\n"
     ]
    }
   ],
   "source": [
    "#8th\n",
    "def one_zero(num):\n",
    "    a = []\n",
    "    b = []\n",
    "    for i in num:\n",
    "        if int(i) == 0:\n",
    "            a.append(i)\n",
    "        elif int(i) == 1:\n",
    "            b.append(i)\n",
    "    if len(a) == len(b):\n",
    "        print (\"True\")\n",
    "    else:\n",
    "        print (\"False\")\n",
    "        \n",
    "        \n",
    "one_zero(\"1110001100110\")"
   ]
  },
  {
   "cell_type": "code",
   "execution_count": null,
   "id": "166b465c",
   "metadata": {},
   "outputs": [],
   "source": []
  },
  {
   "cell_type": "code",
   "execution_count": null,
   "id": "2a987c81",
   "metadata": {},
   "outputs": [],
   "source": []
  },
  {
   "cell_type": "code",
   "execution_count": null,
   "id": "03ccce5e",
   "metadata": {},
   "outputs": [],
   "source": []
  }
 ],
 "metadata": {
  "kernelspec": {
   "display_name": "Python 3 (ipykernel)",
   "language": "python",
   "name": "python3"
  },
  "language_info": {
   "codemirror_mode": {
    "name": "ipython",
    "version": 3
   },
   "file_extension": ".py",
   "mimetype": "text/x-python",
   "name": "python",
   "nbconvert_exporter": "python",
   "pygments_lexer": "ipython3",
   "version": "3.8.10"
  }
 },
 "nbformat": 4,
 "nbformat_minor": 5
}
