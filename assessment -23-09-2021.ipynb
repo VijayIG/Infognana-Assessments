{
 "cells": [
  {
   "cell_type": "markdown",
   "id": "c9257349",
   "metadata": {},
   "source": [
    "# 5th Question"
   ]
  },
  {
   "cell_type": "code",
   "execution_count": 7,
   "id": "06c1496b",
   "metadata": {},
   "outputs": [
    {
     "name": "stdout",
     "output_type": "stream",
     "text": [
      "Enter the number: 4\n",
      "Enter the number: 0\n",
      "sum of a and b 4\n",
      "difference of a and b 4\n",
      "multiplication of a and b 0\n",
      "-1\n"
     ]
    }
   ],
   "source": [
    "def num(a,b):\n",
    "    print('sum of a and b',a+b)\n",
    "    print('difference of a and b',a-b)\n",
    "    print('multiplication of a and b', a*b)\n",
    "    if b==0:\n",
    "        print(-1)\n",
    "    else:\n",
    "        print('division of a and b', a//b)\n",
    "num(a=int(input('Enter the number: ')),b=int(input('Enter the number: ')))"
   ]
  },
  {
   "cell_type": "markdown",
   "id": "611e9592",
   "metadata": {},
   "source": [
    "# 3rd Question"
   ]
  },
  {
   "cell_type": "code",
   "execution_count": 5,
   "id": "3c5cf2e3",
   "metadata": {},
   "outputs": [
    {
     "data": {
      "text/plain": [
       "288"
      ]
     },
     "execution_count": 5,
     "metadata": {},
     "output_type": "execute_result"
    }
   ],
   "source": [
    "def factorials(n):\n",
    "    a=[]\n",
    "    for i in range(n,0,-1):\n",
    "        a.append(i)\n",
    "    b=[]\n",
    "    for m in a:\n",
    "        df=math.factorial(m)\n",
    "        b.append(df)\n",
    "    cv=1\n",
    "    for n in b:\n",
    "        cv *= n\n",
    "    return cv\n",
    "\n",
    "factorials(4)"
   ]
  },
  {
   "cell_type": "markdown",
   "id": "813a7519",
   "metadata": {},
   "source": [
    "# 1st question"
   ]
  },
  {
   "cell_type": "code",
   "execution_count": 16,
   "id": "eb8f1d12",
   "metadata": {},
   "outputs": [
    {
     "name": "stdout",
     "output_type": "stream",
     "text": [
      "[1, 1, 0]\n",
      "1\n"
     ]
    }
   ],
   "source": [
    "def binary(num):\n",
    "    b_num = bin(num)\n",
    "    b_list = list(b_num)\n",
    "    b_list = b_list[2:]\n",
    "    l = []\n",
    "    for i in b_list:\n",
    "        l.append(int(i))\n",
    "    print(l)\n",
    "    length = len(l)\n",
    "    count = 0\n",
    "    res = 0\n",
    "    for j in range(length):\n",
    "        if l[j] == 1:\n",
    "            count = 0\n",
    "        else:\n",
    "            count = count + 1\n",
    "        #print(count)\n",
    "        res = max(res,count)\n",
    "    print(res)\n",
    "    \n",
    "    \n",
    "binary(6)"
   ]
  },
  {
   "cell_type": "markdown",
   "id": "39fba421",
   "metadata": {},
   "source": [
    "# 4th question"
   ]
  },
  {
   "cell_type": "code",
   "execution_count": 1,
   "id": "079457db",
   "metadata": {},
   "outputs": [
    {
     "name": "stdout",
     "output_type": "stream",
     "text": [
      "(2, 3)\n",
      "(3, 2)\n",
      "(3, 7, 4)\n",
      "(3, 4, 7)\n",
      "(7, 3, 4)\n",
      "(7, 4, 3)\n",
      "(4, 3, 7)\n",
      "(4, 7, 3)\n",
      "\n",
      "\n",
      "\n",
      "\n",
      "\n",
      "\n",
      "\n",
      "\n",
      "\n",
      "\n",
      "\n",
      "\n",
      "\n",
      "\n",
      "\n",
      "\n",
      "\n",
      "\n",
      "\n",
      "\n",
      "\n",
      "\n",
      "\n",
      "\n"
     ]
    }
   ],
   "source": [
    "from itertools import permutations\n",
    "def mutations(x,y):\n",
    "    perm = permutations([2, 3])\n",
    "    for i in list(perm):\n",
    "        print(i)\n",
    "def next_mutations(x,y,z):\n",
    "    perm = permutations([3,7,4])\n",
    "    for i in list(perm):\n",
    "        print(i)\n",
    "def third_mutations(a,b,c,d):\n",
    "    perm = permutations([2,3,4,5])\n",
    "    for i in list(perm):\n",
    "        print()\n",
    "mutations(2,3)\n",
    "next_mutations(3,7,4)\n",
    "third_mutations(2,3,4,5)\n"
   ]
  },
  {
   "cell_type": "markdown",
   "id": "2412966d",
   "metadata": {},
   "source": [
    "# 2nd Question"
   ]
  },
  {
   "cell_type": "code",
   "execution_count": 3,
   "id": "0079ccac",
   "metadata": {},
   "outputs": [],
   "source": [
    "def numbers(x,y):\n",
    "    list1=[]\n",
    "    for i in range(x,y):\n",
    "        if i%2==0:\n",
    "            list1.append(i)\n",
    "    print(len(list1))"
   ]
  },
  {
   "cell_type": "code",
   "execution_count": 4,
   "id": "93534783",
   "metadata": {},
   "outputs": [
    {
     "name": "stdout",
     "output_type": "stream",
     "text": [
      "9\n"
     ]
    }
   ],
   "source": [
    "numbers(2,20)"
   ]
  },
  {
   "cell_type": "code",
   "execution_count": null,
   "id": "624e1957",
   "metadata": {},
   "outputs": [],
   "source": []
  }
 ],
 "metadata": {
  "kernelspec": {
   "display_name": "Python 3 (ipykernel)",
   "language": "python",
   "name": "python3"
  },
  "language_info": {
   "codemirror_mode": {
    "name": "ipython",
    "version": 3
   },
   "file_extension": ".py",
   "mimetype": "text/x-python",
   "name": "python",
   "nbconvert_exporter": "python",
   "pygments_lexer": "ipython3",
   "version": "3.8.10"
  }
 },
 "nbformat": 4,
 "nbformat_minor": 5
}
