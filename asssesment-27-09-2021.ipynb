{
 "cells": [
  {
   "cell_type": "code",
   "execution_count": 37,
   "id": "8aea725d",
   "metadata": {},
   "outputs": [
    {
     "name": "stdout",
     "output_type": "stream",
     "text": [
      "Password is valid.\n"
     ]
    }
   ],
   "source": [
    "import re\n",
    "def Password(pas):\n",
    "\n",
    "    reg = \"^(?=.*[a-z])(?=.*[A-Z])(?=.*\\d)(?=.*[@$!%*#?&])[A-Za-z\\d@$!#%*?&]{6,20}$\"\n",
    "      \n",
    "    pat = re.compile(reg)\n",
    "      \n",
    "    # searching regex                 \n",
    "    mat = re.search(pat, pas)\n",
    "      \n",
    "    # validating conditions\n",
    "    if mat:\n",
    "        print(\"Password is valid.\")\n",
    "    else:\n",
    "        print(\"Password invalid !!\")\n",
    "if __name__ == '__main__':\n",
    "    Password('Passwd@22')"
   ]
  },
  {
   "cell_type": "code",
   "execution_count": 34,
   "id": "49ce8044",
   "metadata": {},
   "outputs": [
    {
     "data": {
      "text/plain": [
       "True"
      ]
     },
     "execution_count": 34,
     "metadata": {},
     "output_type": "execute_result"
    }
   ],
   "source": [
    "def isomorphic(a,b):\n",
    "    df_iso = {}\n",
    "    df_iso_s = {}\n",
    "   \n",
    "    for i, value in enumerate(a):\n",
    "        df_iso[value]= df_iso.get(value,[]) + [i]\n",
    "    for j, value in enumerate(b):\n",
    "        df_iso_s[value]= df_iso_s.get(value,[]) + [j]\n",
    "    \n",
    "    if sorted(df_iso.values()) == sorted(df_iso_s.values()):\n",
    "       \n",
    "        return True\n",
    "    else:\n",
    "        return False\n",
    "isomorphic('title','paper')"
   ]
  },
  {
   "cell_type": "code",
   "execution_count": 38,
   "id": "8835ea66",
   "metadata": {},
   "outputs": [
    {
     "name": "stdout",
     "output_type": "stream",
     "text": [
      "['01 Jan 2007', '10 Jul 2016', '2 Dec 2017', '11 Jun 2018', '23 Jun 2018', '01 Jan 2019']\n",
      "24 Jan 2018\n",
      "25 Apr 2018\n",
      "11 Jun 2018\n",
      "01 Nov 2019\n",
      "10 Jul 2016\n",
      "01 Feb 2007\n"
     ]
    }
   ],
   "source": [
    "from datetime import datetime\n",
    "def datenew(dates):\n",
    "    dates = [\"24 Jan 2018\", \"25 Apr 2018\", \"11 Jun 2018\", \"01 Nov 2019\", \"10 Jul 2016\", \"01 Feb 2007\"]\n",
    "    for i in range(len(dates)):\n",
    "        print(dates[i])\n",
    "if __name__ == '__main__':\n",
    "    dates = [\"23 Jun 2018\", \"2 Dec 2017\", \"11 Jun 2018\", \n",
    "            \"01 Jan 2019\", \"10 Jul 2016\", \"01 Jan 2007\"]  \n",
    "    dates.sort(key = lambda date:datetime.strptime(date, \"%d %b %Y\"))\n",
    "    print(dates)\n",
    "    datenew(dates)"
   ]
  },
  {
   "cell_type": "code",
   "execution_count": 48,
   "id": "2d072d4b",
   "metadata": {},
   "outputs": [
    {
     "name": "stdout",
     "output_type": "stream",
     "text": [
      "Enter the Number24\n",
      "3\n"
     ]
    }
   ],
   "source": [
    "def number(n):\n",
    "    num=int(n/3)\n",
    "    x=[]\n",
    "    div=[]\n",
    "    for i in range(1,num):\n",
    "        b=2**i\n",
    "        x.append(b)\n",
    "        if b > num :\n",
    "            break\n",
    "    for j in x:\n",
    "        if n%j==0:\n",
    "            div.append(j)\n",
    "    return len(div)\n",
    "print(number(n=int(input('Enter the Number---->  '))))\n"
   ]
  },
  {
   "cell_type": "code",
   "execution_count": 53,
   "id": "ce284dd9",
   "metadata": {},
   "outputs": [
    {
     "name": "stdout",
     "output_type": "stream",
     "text": [
      "Everyone can see the screen\n"
     ]
    }
   ],
   "source": [
    "def list_new(a):\n",
    "    import numpy as np\n",
    "    new = np.array(a)\n",
    "    x_tanspos = np.transpose(new)\n",
    "    list_x_tanspos = x_tanspos.tolist()\n",
    "    if list_x_tanspos == sorted(list_x_tanspos):\n",
    "        print(\"Everyone can see the screen\")\n",
    "    else:\n",
    "        print(\"Everyone cannot see the screen\")\n",
    "\n",
    "\n",
    "\n",
    "list_new([\n",
    "[1, 2, 3],\n",
    "[4, 5, 6],\n",
    "[7, 8, 9]\n",
    "])"
   ]
  },
  {
   "cell_type": "code",
   "execution_count": 57,
   "id": "c53c3f9a",
   "metadata": {},
   "outputs": [
    {
     "name": "stdout",
     "output_type": "stream",
     "text": [
      "ENTER THE NUMBER 4\n",
      "Enter the number 2\n",
      "aabaab\n"
     ]
    }
   ],
   "source": [
    "class Solution:\n",
    "    def strWithout3a3b(self, A, B):\n",
    "        ans = []\n",
    "\n",
    "        while A or B:\n",
    "            if len(ans) >= 2 and ans[-1] == ans[-2]:\n",
    "                writeA = ans[-1] == 'b'\n",
    "            else:\n",
    "                writeA = A >= B\n",
    "\n",
    "            if writeA:\n",
    "                A -= 1\n",
    "                ans.append('a')\n",
    "            else:\n",
    "                B -= 1\n",
    "                ans.append('b')\n",
    "    \n",
    "        return \"\".join(ans)\n",
    "S1 = Solution()\n",
    "print(S1.strWithout3a3b(A=int(input(\"ENTER THE NUMBER \")),B=int(input(\"Enter the number \"))))"
   ]
  },
  {
   "cell_type": "code",
   "execution_count": 61,
   "id": "9f00769a",
   "metadata": {},
   "outputs": [
    {
     "name": "stdout",
     "output_type": "stream",
     "text": [
      "[800, 40, 6]\n"
     ]
    }
   ],
   "source": [
    "def num_split(a):\n",
    "    a = str(a)\n",
    "\n",
    "    a = [c for c in a]\n",
    "    a = a[::-1]\n",
    "    b = []\n",
    "    f = 1\n",
    "    for i in range(len(a)):\n",
    "        b.append(int(a[i])*f)\n",
    "        f *= 10\n",
    "    print(b[::-1])\n",
    "\n",
    "\n",
    "\n",
    "\n",
    "num_split(846)\n",
    "\n"
   ]
  },
  {
   "cell_type": "code",
   "execution_count": null,
   "id": "9d444aac",
   "metadata": {},
   "outputs": [],
   "source": []
  }
 ],
 "metadata": {
  "kernelspec": {
   "display_name": "Python 3 (ipykernel)",
   "language": "python",
   "name": "python3"
  },
  "language_info": {
   "codemirror_mode": {
    "name": "ipython",
    "version": 3
   },
   "file_extension": ".py",
   "mimetype": "text/x-python",
   "name": "python",
   "nbconvert_exporter": "python",
   "pygments_lexer": "ipython3",
   "version": "3.8.10"
  }
 },
 "nbformat": 4,
 "nbformat_minor": 5
}
