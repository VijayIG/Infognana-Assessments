{
 "cells": [
  {
   "cell_type": "markdown",
   "metadata": {},
   "source": [
    "# Vowel Skewers"
   ]
  },
  {
   "cell_type": "code",
   "execution_count": 1,
   "metadata": {},
   "outputs": [
    {
     "name": "stdout",
     "output_type": "stream",
     "text": [
      "False\n"
     ]
    }
   ],
   "source": [
    "def vowels(n):\n",
    "    a=[\"A\",\"E\",\"I\",\"O\",\"U\"]\n",
    "    df=[]\n",
    "    cv=[]\n",
    "    n=n.upper()\n",
    "    n=n.split(\"--\")\n",
    "    if n[0] and n[-1] in a:\n",
    "        print(False)\n",
    "    else:\n",
    "        for j in range(len(n)):\n",
    "#              print(j)\n",
    "             if n[j] in a:\n",
    "                df.append(j)\n",
    "#         print(df)\n",
    "        for i in range(0,df[-1]+1):\n",
    "            if i%2 !=0:\n",
    "                cv.append(i)\n",
    "#         print(cv)\n",
    "        if df ==cv:\n",
    "            print(True)\n",
    "        else:\n",
    "            print(False)\n",
    "vowels(\"C--A--X--I\")"
   ]
  },
  {
   "cell_type": "markdown",
   "metadata": {},
   "source": [
    "# Recursion: Flatten the Curves\n"
   ]
  },
  {
   "cell_type": "code",
   "execution_count": 2,
   "metadata": {},
   "outputs": [
    {
     "name": "stdout",
     "output_type": "stream",
     "text": [
      "[4666, 5394, 466, 'Saskia', 'DXTD', 'Lexi']\n"
     ]
    }
   ],
   "source": [
    "def Curves(string):\n",
    "    if len(string)==1:\n",
    "        if type(string[0])==list:\n",
    "            a=Curves(string[0])\n",
    "        else:\n",
    "            a=string\n",
    "    elif type(string[0])==list:\n",
    "        a=Curves(string[0])+Curves(string[1:])\n",
    "    else:\n",
    "        a=[string[0]] + Curves(string[1:])\n",
    "    return a\n",
    "print(Curves([[4666], [5394], [466], [[[\"Saskia\", [[[[[\"DXTD\"]], \"Lexi\"]]]]]]]))"
   ]
  },
  {
   "cell_type": "markdown",
   "metadata": {},
   "source": [
    "# Next Largest Number"
   ]
  },
  {
   "cell_type": "code",
   "execution_count": 3,
   "metadata": {},
   "outputs": [
    {
     "name": "stdout",
     "output_type": "stream",
     "text": [
      "59348\n"
     ]
    }
   ],
   "source": [
    "from itertools import permutations\n",
    "def greatest(n):\n",
    "    a=permutations(n)\n",
    "    df=[]\n",
    "    for i in a:\n",
    "        df.append(int(\"\".join(i)))\n",
    "#         print(df)\n",
    "    df=sorted(df)\n",
    "    print(df[df.index(int(n))+1])\n",
    "                      \n",
    "greatest(\"58943\")      "
   ]
  },
  {
   "cell_type": "markdown",
   "metadata": {},
   "source": [
    "# Validate Subsequences"
   ]
  },
  {
   "cell_type": "code",
   "execution_count": 4,
   "metadata": {},
   "outputs": [],
   "source": [
    "def Subsequences(a,b):\n",
    "    df=0\n",
    "    cv=0\n",
    "    while df < len(a)and cv<len(b):\n",
    "        if a [df]== b[cv]:\n",
    "            cv +=1\n",
    "        df+=1\n",
    "    return cv == len(b)"
   ]
  },
  {
   "cell_type": "code",
   "execution_count": 5,
   "metadata": {},
   "outputs": [
    {
     "data": {
      "text/plain": [
       "True"
      ]
     },
     "execution_count": 5,
     "metadata": {},
     "output_type": "execute_result"
    }
   ],
   "source": [
    "Subsequences([5, 1, 22, 25, 6, -1, 8, 10], [22, 25, 6])"
   ]
  },
  {
   "cell_type": "markdown",
   "metadata": {},
   "source": [
    "# Recurson: Reversible Inclusive List Ranges"
   ]
  },
  {
   "cell_type": "code",
   "execution_count": 9,
   "metadata": {},
   "outputs": [
    {
     "name": "stdout",
     "output_type": "stream",
     "text": [
      "Enter the start value----> 24\n",
      "Enter the end value-----> 17\n",
      "[24, 23, 22, 21, 20, 19, 18, 17]\n"
     ]
    }
   ],
   "source": [
    "def reverse(start,end):\n",
    "    if start<end:\n",
    "        print(start)\n",
    "        reverse(start+1,end)\n",
    "    elif start>end:\n",
    "        return (list(range(start,end-1,-1)))\n",
    "start=int(input(\"Enter the start value----> \"))\n",
    "end=int(input(\"Enter the end value-----> \"))\n",
    "print(reverse(start,end)) "
   ]
  },
  {
   "cell_type": "code",
   "execution_count": null,
   "metadata": {},
   "outputs": [],
   "source": []
  }
 ],
 "metadata": {
  "kernelspec": {
   "display_name": "Python 3 (ipykernel)",
   "language": "python",
   "name": "python3"
  },
  "language_info": {
   "codemirror_mode": {
    "name": "ipython",
    "version": 3
   },
   "file_extension": ".py",
   "mimetype": "text/x-python",
   "name": "python",
   "nbconvert_exporter": "python",
   "pygments_lexer": "ipython3",
   "version": "3.8.10"
  }
 },
 "nbformat": 4,
 "nbformat_minor": 4
}
