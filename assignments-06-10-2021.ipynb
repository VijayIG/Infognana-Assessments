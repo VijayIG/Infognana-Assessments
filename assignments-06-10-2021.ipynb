{
 "cells": [
  {
   "cell_type": "markdown",
   "metadata": {},
   "source": [
    "# Try Catch"
   ]
  },
  {
   "cell_type": "code",
   "execution_count": null,
   "metadata": {},
   "outputs": [],
   "source": [
    "x=int(input(\"enter the integer------> \"))\n",
    "try:\n",
    "    x.append()\n",
    "except AttributeError:\n",
    "    print(\"Cannot append element with int \")"
   ]
  },
  {
   "cell_type": "code",
   "execution_count": null,
   "metadata": {},
   "outputs": [],
   "source": [
    "while True:\n",
    "    try:\n",
    "        x = int(input(\"Enter a number: \"))\n",
    "        break\n",
    "    except ValueError:\n",
    "        print(\"That was no valid num  "
   ]
  },
  {
   "cell_type": "code",
   "execution_count": null,
   "metadata": {},
   "outputs": [],
   "source": [
    "try:\n",
    "    import math\n",
    "    a=int(input(\"Enter the number below 710  ----> \"))\n",
    "    print(\"The exponential value for {} is \".format(a))\n",
    "    print(math.exp(a))\n",
    "except OverflowError:\n",
    "    print(\"Enter the number below 710\")"
   ]
  },
  {
   "cell_type": "code",
   "execution_count": null,
   "metadata": {},
   "outputs": [],
   "source": [
    "import sys\n",
    "try:\n",
    "    file = open('myfile.txt')\n",
    "    print(file)\n",
    "except FileNotFoundError:\n",
    "    print(\"File not found\")"
   ]
  },
  {
   "cell_type": "markdown",
   "metadata": {},
   "source": [
    "# Built-in Functions"
   ]
  },
  {
   "cell_type": "code",
   "execution_count": 61,
   "metadata": {},
   "outputs": [
    {
     "name": "stdout",
     "output_type": "stream",
     "text": [
      "There is no attribute in the class\n"
     ]
    }
   ],
   "source": [
    "class Person:\n",
    "    name = \"vijay\"\n",
    "    age = 21\n",
    "    country = \"India\"\n",
    "delattr(Person, 'age')\n",
    "per=Person()\n",
    "try:\n",
    "    per.age\n",
    "except AttributeError:\n",
    "    print(\"There is no attribute in the class\")"
   ]
  },
  {
   "cell_type": "code",
   "execution_count": 62,
   "metadata": {},
   "outputs": [
    {
     "name": "stdout",
     "output_type": "stream",
     "text": [
      "enter the number to get bytes of given number-->  3\n",
      "b'\\x00\\x00\\x00'\n",
      "enter the number to get quotient and remainder -->  4\n",
      "enter the number to get quotient and remainder -->  9\n",
      "(0, 4)\n",
      "Enter the number to check whteher the given number is int datatype---> 3\n",
      "True\n",
      "enter the String or integer to Zip--->1122\n",
      "enter the String or integer to Zip--->1232\n",
      "[('1', '1'), ('1', '2'), ('2', '3'), ('2', '2')]\n"
     ]
    }
   ],
   "source": [
    "def functions():\n",
    "    \n",
    "    a=int(input(\"enter the number to get bytes of given number-->  \"))\n",
    "    df=bytes(a)\n",
    "    print(df)\n",
    "    \n",
    "    \n",
    "    try:\n",
    "        a=int(input(\"enter the number to get quotient and remainder -->  \" ))\n",
    "        b=int(input(\"enter the number to get quotient and remainder -->  \"))\n",
    "        cv=divmod(a,b)\n",
    "        print(cv)\n",
    "    except ZeroDivisionError :\n",
    "        print(\"The given denominator is not divisible\")\n",
    "        \n",
    "\n",
    "    try:\n",
    "        a=int(input(\"Enter the number to check whteher the given number is int datatype---> \"))\n",
    "        b=isinstance(a,int)\n",
    "        print(b)\n",
    "    except ValueError:\n",
    "        print(\"The given number is not integer\")\n",
    "        \n",
    "        \n",
    "        \n",
    "    a=input(\"enter the String or integer to Zip--->\")\n",
    "    b=input(\"enter the String or integer to Zip--->\")\n",
    "    x=zip(a,b)\n",
    "    print(list(x))\n",
    "    \n",
    "    \n",
    "functions()\n"
   ]
  },
  {
   "cell_type": "markdown",
   "metadata": {},
   "source": [
    "# Continue vs Break Statement"
   ]
  },
  {
   "cell_type": "code",
   "execution_count": 72,
   "metadata": {},
   "outputs": [
    {
     "name": "stdout",
     "output_type": "stream",
     "text": [
      "Vijay\n",
      "count is 0\n",
      "Kavin\n",
      "count is 1\n",
      "Vimal\n",
      "count is 3\n",
      "Yuga\n",
      "count is 4\n",
      "Deepa\n",
      "count is 5\n",
      "end\n"
     ]
    }
   ],
   "source": [
    "students=[\"Vijay\",\"Kavin\",\"Aamruth\",\"Vimal\",\"Yuga\",\"Deepa\"]\n",
    "for i in range(0,len(students)):\n",
    "    if i==2:\n",
    "        continue\n",
    "    else:\n",
    "        print(students[i])\n",
    "    print(\"count is \"+ str(i))\n",
    "    \n",
    "print(\"end\")"
   ]
  },
  {
   "cell_type": "code",
   "execution_count": 73,
   "metadata": {},
   "outputs": [
    {
     "name": "stdout",
     "output_type": "stream",
     "text": [
      "Vijay\n",
      "count is 0\n",
      "Kavin\n",
      "count is 1\n",
      "end\n"
     ]
    }
   ],
   "source": [
    "students=[\"Vijay\",\"Kavin\",\"Aamruth\",\"Vimal\",\"Yuga\",\"Deepa\"]\n",
    "for i in range(0,len(students)):\n",
    "    if i==2:\n",
    "        break\n",
    "    else:\n",
    "        print(students[i])\n",
    "    print(\"count is \"+ str(i))\n",
    "    \n",
    "print(\"end\")"
   ]
  },
  {
   "cell_type": "markdown",
   "metadata": {},
   "source": [
    "# For and While Loop"
   ]
  },
  {
   "cell_type": "code",
   "execution_count": 75,
   "metadata": {},
   "outputs": [
    {
     "name": "stdout",
     "output_type": "stream",
     "text": [
      "(0, 1)\n",
      "(1, 2)\n",
      "(2, 3)\n",
      "(3, 'Jupiter')\n",
      "(4, 'Venus')\n",
      "(5, 'Earth')\n"
     ]
    }
   ],
   "source": [
    "list_1=[1,2,3,\"Jupiter\",\"Venus\",\"Earth\"]\n",
    "for i in enumerate(list_1):\n",
    "    print(i)"
   ]
  },
  {
   "cell_type": "code",
   "execution_count": 79,
   "metadata": {},
   "outputs": [
    {
     "name": "stdout",
     "output_type": "stream",
     "text": [
      "1\n",
      "2\n",
      "3\n",
      "Jupiter\n",
      "Venus\n",
      "Earth\n"
     ]
    }
   ],
   "source": [
    "a=0\n",
    "while a<len(list_1):\n",
    "    print(list_1[a])\n",
    "    a+=1"
   ]
  },
  {
   "cell_type": "code",
   "execution_count": 1,
   "metadata": {},
   "outputs": [
    {
     "name": "stdout",
     "output_type": "stream",
     "text": [
      "10.5\n"
     ]
    }
   ],
   "source": [
    "class payment:\n",
    "    def __init__(self,price):\n",
    "        self.__final_price=price+price*0.05\n",
    "        \n",
    "    def get_final_price(self):\n",
    "        return self.__final_price\n",
    "        \n",
    "    def set_final_price(self,discount):\n",
    "        self.__final_price=self.__final_price-self.__calculate_discount(discount)\n",
    "    \n",
    "    def __caluculate_discount(self,discount):\n",
    "        return self.__final_prive*(discount/100)\n",
    "    \n",
    "    \n",
    "book=payment(10)\n",
    "book.__final_price=0\n",
    "print(book.get_final_price())"
   ]
  },
  {
   "cell_type": "markdown",
   "metadata": {},
   "source": [
    "# Arguments"
   ]
  },
  {
   "cell_type": "code",
   "execution_count": 2,
   "metadata": {},
   "outputs": [
    {
     "name": "stdout",
     "output_type": "stream",
     "text": [
      "Hello vijay s\n"
     ]
    }
   ],
   "source": [
    "def name(firstname,lastname):\n",
    "    print(\"Hello {} {}\".format(firstname,lastname))\n",
    "    \n",
    "name(lastname=\"s\",firstname=\"vijay\")"
   ]
  },
  {
   "cell_type": "code",
   "execution_count": 3,
   "metadata": {},
   "outputs": [
    {
     "name": "stdout",
     "output_type": "stream",
     "text": [
      "Hello vijay s\n"
     ]
    }
   ],
   "source": [
    "def name(firstname,lastname):\n",
    "    print(\"Hello {} {}\".format(firstname,lastname))\n",
    "    \n",
    "name(\"vijay\",\"s\")"
   ]
  },
  {
   "cell_type": "code",
   "execution_count": 4,
   "metadata": {},
   "outputs": [
    {
     "name": "stdout",
     "output_type": "stream",
     "text": [
      "Hello kavin sharaj\n"
     ]
    }
   ],
   "source": [
    "def name(firstname=\"kavin\",lastname=\"sharaj\"):\n",
    "    print(\"Hello {} {}\".format(firstname,lastname))\n",
    "    \n",
    "name()"
   ]
  },
  {
   "cell_type": "code",
   "execution_count": null,
   "metadata": {},
   "outputs": [],
   "source": [
    "def my_min(*N):\n",
    "    result = N[0]\n",
    "    for num in N:\n",
    "        if num < result:\n",
    "            result = num\n",
    "    return result\n",
    "\n",
    "my_min(4, 5, 6, 7, 2)\n",
    "        "
   ]
  }
 ],
 "metadata": {
  "kernelspec": {
   "display_name": "Python 3 (ipykernel)",
   "language": "python",
   "name": "python3"
  },
  "language_info": {
   "codemirror_mode": {
    "name": "ipython",
    "version": 3
   },
   "file_extension": ".py",
   "mimetype": "text/x-python",
   "name": "python",
   "nbconvert_exporter": "python",
   "pygments_lexer": "ipython3",
   "version": "3.8.10"
  }
 },
 "nbformat": 4,
 "nbformat_minor": 4
}
