{
 "cells": [
  {
   "cell_type": "markdown",
   "id": "6f535fe3",
   "metadata": {},
   "source": [
    "# 1: Float Number"
   ]
  },
  {
   "cell_type": "code",
   "execution_count": 1,
   "id": "510edb4e",
   "metadata": {},
   "outputs": [
    {
     "data": {
      "text/plain": [
       "True"
      ]
     },
     "execution_count": 1,
     "metadata": {},
     "output_type": "execute_result"
    }
   ],
   "source": [
    "import re\n",
    "pattern_Float_Number =r\"[\\+|-]?\\d*\\.\\d+$\"\n",
    "bool(re.match(pattern_Float_Number,\"12.12\"))"
   ]
  },
  {
   "cell_type": "code",
   "execution_count": 2,
   "id": "71d83352",
   "metadata": {},
   "outputs": [
    {
     "name": "stdout",
     "output_type": "stream",
     "text": [
      "False\n",
      "True\n",
      "True\n",
      "True\n",
      "False\n",
      "False\n"
     ]
    }
   ],
   "source": [
    "print(bool(re.match(pattern_Float_Number, \"12.\")))\n",
    "\n",
    "print(bool(re.match(pattern_Float_Number, \".1\")))\n",
    "\n",
    "print(bool(re.match(pattern_Float_Number, \"-.1\")))\n",
    "\n",
    "print(bool(re.match(pattern_Float_Number, \"+4.4\")))\n",
    "\n",
    "print(bool(re.match(pattern_Float_Number, \"+4\")))\n",
    "\n",
    "print(bool(re.match(pattern_Float_Number, \"+4.4av\")))"
   ]
  },
  {
   "cell_type": "markdown",
   "id": "786263c7",
   "metadata": {},
   "source": [
    "# 2: Existentialism"
   ]
  },
  {
   "cell_type": "code",
   "execution_count": 3,
   "id": "86b9a255",
   "metadata": {},
   "outputs": [
    {
     "data": {
      "text/plain": [
       "True"
      ]
     },
     "execution_count": 3,
     "metadata": {},
     "output_type": "execute_result"
    }
   ],
   "source": [
    "txt1 = \"\"\n",
    "txt2 = \"This is not an empty string.\"\n",
    "nothing = \"^$\"\n",
    "anything = \"^[\\s\\w\\W]*$\"\n",
    "something = \"^[\\s\\w\\W]+$\"\n",
    "bool(re.match(nothing, txt1))"
   ]
  },
  {
   "cell_type": "code",
   "execution_count": 4,
   "id": "f64cdfda",
   "metadata": {},
   "outputs": [
    {
     "name": "stdout",
     "output_type": "stream",
     "text": [
      "['']\n",
      "[]\n",
      "False\n"
     ]
    }
   ],
   "source": [
    "\n",
    "print(re.findall(nothing, txt1))\n",
    "\n",
    "print(re.findall(nothing, txt2))\n",
    "\n",
    "print(bool(re.match(nothing, txt2)))"
   ]
  },
  {
   "cell_type": "code",
   "execution_count": 5,
   "id": "e09c0cdb",
   "metadata": {},
   "outputs": [
    {
     "name": "stdout",
     "output_type": "stream",
     "text": [
      "['']\n",
      "['This is not an empty string.']\n",
      "[]\n",
      "['This is not an empty string.']\n"
     ]
    }
   ],
   "source": [
    "print(re.findall(anything, txt1))\n",
    "\n",
    "print(re.findall(anything, txt2))\n",
    "\n",
    "print(re.findall(something, txt1))\n",
    "\n",
    "print(re.findall(something, txt2))"
   ]
  },
  {
   "cell_type": "code",
   "execution_count": 6,
   "id": "dcf2ef68",
   "metadata": {},
   "outputs": [
    {
     "name": "stdout",
     "output_type": "stream",
     "text": [
      "True\n",
      "True\n",
      "False\n",
      "True\n"
     ]
    }
   ],
   "source": [
    "print(bool(re.match(anything, txt1)))\n",
    "\n",
    "print(bool(re.match(anything, txt2)))\n",
    "\n",
    "print(bool(re.match(something, txt1)))\n",
    "\n",
    "print(bool(re.match(something, txt2)))"
   ]
  },
  {
   "cell_type": "markdown",
   "id": "b3db46da",
   "metadata": {},
   "source": [
    "# 3: Find the Numbers"
   ]
  },
  {
   "cell_type": "code",
   "execution_count": 7,
   "id": "bb2a0bcd",
   "metadata": {},
   "outputs": [
    {
     "data": {
      "text/plain": [
       "['2', '+7', '-88']"
      ]
     },
     "execution_count": 7,
     "metadata": {},
     "output_type": "execute_result"
    }
   ],
   "source": [
    "txt = \" 123.456 2 +7 -88 -.25 9.10.11 -4. +-34 -0.6 --5 \"\n",
    "integers = \"(?<=\\s)(?:\\+|\\-)?\\d+(?=\\s)\"\n",
    "floats = \"(?<=\\s)(?:\\+|\\-)?\\d*\\.\\d+(?=\\s)\"\n",
    "positive = \"(?<=\\s)\\+?\\d*\\.?\\d+(?=\\s)\"\n",
    "negative = \"(?<=\\s)\\-\\d*\\.?\\d+(?=\\s)\"\n",
    "numbers = \"(?<=\\s)(?:\\+|\\-)?\\d*\\.?\\d+(?=\\s)\"\n",
    "re.findall(integers, txt)"
   ]
  },
  {
   "cell_type": "code",
   "execution_count": 8,
   "id": "8bcce905",
   "metadata": {},
   "outputs": [
    {
     "data": {
      "text/plain": [
       "['123.456', '-.25', '-0.6']"
      ]
     },
     "execution_count": 8,
     "metadata": {},
     "output_type": "execute_result"
    }
   ],
   "source": [
    "re.findall(floats, txt) "
   ]
  },
  {
   "cell_type": "code",
   "execution_count": 9,
   "id": "403b469f",
   "metadata": {},
   "outputs": [
    {
     "data": {
      "text/plain": [
       "['123.456', '2', '+7']"
      ]
     },
     "execution_count": 9,
     "metadata": {},
     "output_type": "execute_result"
    }
   ],
   "source": [
    "re.findall(positive, txt)"
   ]
  },
  {
   "cell_type": "code",
   "execution_count": 10,
   "id": "d94c054f",
   "metadata": {},
   "outputs": [
    {
     "data": {
      "text/plain": [
       "['-88', '-.25', '-0.6']"
      ]
     },
     "execution_count": 10,
     "metadata": {},
     "output_type": "execute_result"
    }
   ],
   "source": [
    "re.findall(negative, txt)"
   ]
  },
  {
   "cell_type": "code",
   "execution_count": 11,
   "id": "23babe50",
   "metadata": {},
   "outputs": [
    {
     "data": {
      "text/plain": [
       "['123.456', '2', '+7', '-88', '-.25', '-0.6']"
      ]
     },
     "execution_count": 11,
     "metadata": {},
     "output_type": "execute_result"
    }
   ],
   "source": [
    "re.findall(numbers, txt)"
   ]
  },
  {
   "cell_type": "markdown",
   "id": "fde35516",
   "metadata": {},
   "source": [
    "# 4: Find the Times"
   ]
  },
  {
   "cell_type": "code",
   "execution_count": 12,
   "id": "10910996",
   "metadata": {},
   "outputs": [
    {
     "data": {
      "text/plain": [
       "['09:00']"
      ]
     },
     "execution_count": 12,
     "metadata": {},
     "output_type": "execute_result"
    }
   ],
   "source": [
    "txt1 = \"Breakfast at 09:00 in the room 123:456.\"\n",
    "txt2 = \"The incident took place last Wednesday at 00:56:41.\"\n",
    "txt3 = \"We will have two meetings: from 10:30 to 11:00 and from 11:45 to 11:75.\"\n",
    "pattern_Find_the_Times = '(?<= )[0-4][0-9]:[0-5][0-9](?=[., ])|(?<= )[0-4][0-9]:[0-5][0-9]:[0-5][0-9](?=[., ])'\n",
    "re.findall(pattern_Find_the_Times, txt1)"
   ]
  },
  {
   "cell_type": "code",
   "execution_count": 13,
   "id": "0cf325e3",
   "metadata": {},
   "outputs": [
    {
     "data": {
      "text/plain": [
       "['00:56:41']"
      ]
     },
     "execution_count": 13,
     "metadata": {},
     "output_type": "execute_result"
    }
   ],
   "source": [
    "re.findall(pattern_Find_the_Times, txt2)"
   ]
  },
  {
   "cell_type": "code",
   "execution_count": 14,
   "id": "119ab355",
   "metadata": {},
   "outputs": [
    {
     "data": {
      "text/plain": [
       "['10:30', '11:00', '11:45']"
      ]
     },
     "execution_count": 14,
     "metadata": {},
     "output_type": "execute_result"
    }
   ],
   "source": [
    "re.findall(pattern_Find_the_Times, txt3)"
   ]
  },
  {
   "cell_type": "markdown",
   "id": "18becdbc",
   "metadata": {},
   "source": [
    "# 5: Distinct Digits"
   ]
  },
  {
   "cell_type": "code",
   "execution_count": 19,
   "id": "5c26fd85",
   "metadata": {},
   "outputs": [
    {
     "name": "stdout",
     "output_type": "stream",
     "text": [
      "Enter the number ---> 1234\n",
      "There is no repetation\n"
     ]
    }
   ],
   "source": [
    "pattern_Distinct_Digits = r'^(?!\\d*(\\d)\\1)\\d+$'\n",
    "result=bool(re.match(pattern_Distinct_Digits,input(\"Enter the number ---> \")))\n",
    "result\n",
    "if result==True:\n",
    "    print(\"There is no repetation\")\n",
    "else:\n",
    "    print(\"There is Repetation\")"
   ]
  },
  {
   "cell_type": "code",
   "execution_count": 16,
   "id": "b5cfb0b6",
   "metadata": {},
   "outputs": [
    {
     "data": {
      "text/plain": [
       "False"
      ]
     },
     "execution_count": 16,
     "metadata": {},
     "output_type": "execute_result"
    }
   ],
   "source": [
    "bool(re.match(pattern_Distinct_Digits, \"112233\")) "
   ]
  },
  {
   "cell_type": "code",
   "execution_count": 17,
   "id": "3cf89190",
   "metadata": {},
   "outputs": [
    {
     "data": {
      "text/plain": [
       "True"
      ]
     },
     "execution_count": 17,
     "metadata": {},
     "output_type": "execute_result"
    }
   ],
   "source": [
    "bool(re.match(pattern_Distinct_Digits, \"1023\"))"
   ]
  },
  {
   "cell_type": "code",
   "execution_count": null,
   "id": "8e0ed9d4",
   "metadata": {},
   "outputs": [],
   "source": []
  },
  {
   "cell_type": "code",
   "execution_count": null,
   "id": "c29cb5da",
   "metadata": {},
   "outputs": [],
   "source": []
  },
  {
   "cell_type": "code",
   "execution_count": null,
   "id": "a7a7d899",
   "metadata": {},
   "outputs": [],
   "source": []
  }
 ],
 "metadata": {
  "kernelspec": {
   "display_name": "Python 3 (ipykernel)",
   "language": "python",
   "name": "python3"
  },
  "language_info": {
   "codemirror_mode": {
    "name": "ipython",
    "version": 3
   },
   "file_extension": ".py",
   "mimetype": "text/x-python",
   "name": "python",
   "nbconvert_exporter": "python",
   "pygments_lexer": "ipython3",
   "version": "3.8.10"
  }
 },
 "nbformat": 4,
 "nbformat_minor": 5
}
